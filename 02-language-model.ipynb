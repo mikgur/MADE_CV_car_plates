{
 "cells": [
  {
   "cell_type": "code",
   "execution_count": 66,
   "metadata": {},
   "outputs": [],
   "source": [
    "import numpy as np\n",
    "import tqdm\n",
    "from collections import defaultdict\n",
    "import pickle"
   ]
  },
  {
   "cell_type": "code",
   "execution_count": 67,
   "metadata": {},
   "outputs": [
    {
     "name": "stderr",
     "output_type": "stream",
     "text": [
      "100%|██████████| 12/12 [01:35<00:00,  7.95s/it]\n"
     ]
    }
   ],
   "source": [
    "letters = 'ABEKMHOPCTYX'\n",
    "region_numbers = []\n",
    "\n",
    "for i in range(1, 100):\n",
    "    region_numbers.append(f'{i:02}')\n",
    "\n",
    "additional = [102, 113, 116, 121, 123, 124, 125, 126, 134, 136,\n",
    "              138, 142, 150, 152, 154, 159, 161, 163, 164, 173,\n",
    "              174, 177, 178, 186, 190, 196, 197, 198, 199, 277,\n",
    "              299, 716, 725, 750, 761, 763, 777, 790, 797, 799]\n",
    "\n",
    "for num in additional:\n",
    "    region_numbers.append(str(num))\n",
    "    \n",
    "bi_letters = [''.join([l1, l2]) for l1 in letters for l2 in letters]\n",
    "\n",
    "plates = []\n",
    "\n",
    "for l_1 in tqdm.tqdm(letters):\n",
    "    for num in range(1, 1000):\n",
    "        for l_23 in bi_letters:\n",
    "            for region in region_numbers:\n",
    "                plates.append(''.join([l_1, f'{num:03}', l_23, region, '-']))"
   ]
  },
  {
   "cell_type": "code",
   "execution_count": 68,
   "metadata": {},
   "outputs": [
    {
     "name": "stderr",
     "output_type": "stream",
     "text": [
      "100%|██████████| 239951808/239951808 [29:57<00:00, 133494.51it/s]\n"
     ]
    }
   ],
   "source": [
    "language_model = defaultdict(int)\n",
    "for plate in tqdm.tqdm(plates):\n",
    "    language_model[plate[0]] += 1\n",
    "    language_model[plate[:2]] += 1\n",
    "    for i in range(0, len(plate)-2):\n",
    "        language_model[plate[i:i+3]] += 1\n",
    "    for i in range(0, len(plate)-3):\n",
    "        language_model[plate[i:i+4]] += 1\n",
    "    for i in range(0, len(plate)-4):\n",
    "        language_model[plate[i:i+5]] += 1"
   ]
  },
  {
   "cell_type": "code",
   "execution_count": 69,
   "metadata": {},
   "outputs": [
    {
     "data": {
      "text/plain": [
       "669538"
      ]
     },
     "execution_count": 69,
     "metadata": {},
     "output_type": "execute_result"
    }
   ],
   "source": [
    "len(language_model)"
   ]
  },
  {
   "cell_type": "code",
   "execution_count": 70,
   "metadata": {},
   "outputs": [],
   "source": [
    "with open('language_model_space.pkl', 'wb') as f:\n",
    "    pickle.dump(language_model, f)"
   ]
  },
  {
   "cell_type": "code",
   "execution_count": null,
   "metadata": {},
   "outputs": [],
   "source": []
  }
 ],
 "metadata": {
  "kernelspec": {
   "display_name": "Python 3",
   "language": "python",
   "name": "python3"
  },
  "language_info": {
   "codemirror_mode": {
    "name": "ipython",
    "version": 3
   },
   "file_extension": ".py",
   "mimetype": "text/x-python",
   "name": "python",
   "nbconvert_exporter": "python",
   "pygments_lexer": "ipython3",
   "version": "3.7.6"
  }
 },
 "nbformat": 4,
 "nbformat_minor": 4
}
